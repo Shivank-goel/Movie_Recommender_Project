{
  "nbformat": 4,
  "nbformat_minor": 0,
  "metadata": {
    "colab": {
      "provenance": [],
      "authorship_tag": "ABX9TyM8fCzrjj1TiUa3NXF9Zr/G",
      "include_colab_link": true
    },
    "kernelspec": {
      "name": "python3",
      "display_name": "Python 3"
    },
    "language_info": {
      "name": "python"
    }
  },
  "cells": [
    {
      "cell_type": "markdown",
      "metadata": {
        "id": "view-in-github",
        "colab_type": "text"
      },
      "source": [
        "<a href=\"https://colab.research.google.com/github/Shivank-goel/Movie_Recommender_Project/blob/main/Movie_Recommender_Project.ipynb\" target=\"_parent\"><img src=\"https://colab.research.google.com/assets/colab-badge.svg\" alt=\"Open In Colab\"/></a>"
      ]
    },
    {
      "cell_type": "markdown",
      "metadata": {
        "id": "c3393c28"
      },
      "source": [
        "# Task\n",
        "Create a folder named \"Movie_Recommender_Project\" with subfolders \"data\", \"src\", and \"notebooks\". Inside the \"src\" folder, create empty files named \"data_processing.py\", \"model.py\", and \"recommendation_system.py\"."
      ]
    },
    {
      "cell_type": "markdown",
      "metadata": {
        "id": "922ff3fc"
      },
      "source": [
        "## Create the main project folder\n",
        "\n",
        "### Subtask:\n",
        "Create a folder named `Movie_Recommender_Project`.\n"
      ]
    },
    {
      "cell_type": "markdown",
      "metadata": {
        "id": "b53badee"
      },
      "source": [
        "**Reasoning**:\n",
        "Create a new directory named \"Movie_Recommender_Project\".\n",
        "\n"
      ]
    },
    {
      "cell_type": "code",
      "metadata": {
        "id": "77a46ecf"
      },
      "source": [
        "import os\n",
        "os.makedirs('Movie_Recommender_Project', exist_ok=True)"
      ],
      "execution_count": 3,
      "outputs": []
    },
    {
      "cell_type": "markdown",
      "metadata": {
        "id": "b833608b"
      },
      "source": [
        "## Create subfolders\n",
        "\n",
        "### Subtask:\n",
        "Create subfolders within `Movie_Recommender_Project` for different components of the project (e.g., `data`, `src`, `notebooks`).\n"
      ]
    },
    {
      "cell_type": "markdown",
      "metadata": {
        "id": "7509d161"
      },
      "source": [
        "**Reasoning**:\n",
        "Create the subfolders 'data', 'src', and 'notebooks' within the 'Movie_Recommender_Project' directory.\n",
        "\n"
      ]
    },
    {
      "cell_type": "code",
      "metadata": {
        "id": "6dbc7bd7"
      },
      "source": [
        "import os\n",
        "\n",
        "os.makedirs('Movie_Recommender_Project/data', exist_ok=True)\n",
        "os.makedirs('Movie_Recommender_Project/src', exist_ok=True)\n",
        "os.makedirs('Movie_Recommender_Project/notebooks', exist_ok=True)"
      ],
      "execution_count": 4,
      "outputs": []
    },
    {
      "cell_type": "markdown",
      "metadata": {
        "id": "5bac05ca"
      },
      "source": [
        "## Create empty files\n",
        "\n",
        "### Subtask:\n",
        "Create empty Python files within the `src` folder for different modules (e.g., `data_processing.py`, `model.py`, `recommendation_system.py`).\n"
      ]
    },
    {
      "cell_type": "markdown",
      "metadata": {
        "id": "34c636c8"
      },
      "source": [
        "**Reasoning**:\n",
        "Create empty Python files within the `src` folder as specified in the instructions.\n",
        "\n"
      ]
    },
    {
      "cell_type": "code",
      "metadata": {
        "id": "1e6bcfe5"
      },
      "source": [
        "with open('Movie_Recommender_Project/src/data_processing.py', 'w') as f:\n",
        "    pass\n",
        "with open('Movie_Recommender_Project/src/model.py', 'w') as f:\n",
        "    pass\n",
        "with open('Movie_Recommender_Project/src/recommendation_system.py', 'w') as f:\n",
        "    pass"
      ],
      "execution_count": 5,
      "outputs": []
    },
    {
      "cell_type": "markdown",
      "metadata": {
        "id": "d6b461dc"
      },
      "source": [
        "## Summary:\n",
        "\n",
        "### Data Analysis Key Findings\n",
        "\n",
        "*   A project folder named \"Movie\\_Recommender\\_Project\" was successfully created.\n",
        "*   Subfolders named \"data\", \"src\", and \"notebooks\" were successfully created within the \"Movie\\_Recommender\\_Project\" folder.\n",
        "*   Empty Python files named \"data\\_processing.py\", \"model.py\", and \"recommendation\\_system.py\" were successfully created within the \"src\" subfolder.\n",
        "\n",
        "### Insights or Next Steps\n",
        "\n",
        "*   The basic directory structure for the \"Movie\\_Recommender\\_Project\" is now set up.\n",
        "*   The next steps involve adding content to the created Python files and potentially placing data or notebooks in the respective folders.\n"
      ]
    }
  ]
}